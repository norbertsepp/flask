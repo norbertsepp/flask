{
 "cells": [
  {
   "cell_type": "markdown",
   "metadata": {},
   "source": [
    "# Python Advanced<img src=\"python-logo.png\" width=\"150\" align=\"right\">\n",
    "### Toolset 2 - Flask alapok"
   ]
  },
  {
   "cell_type": "markdown",
   "metadata": {},
   "source": [
    "API-k\n",
    "\n",
    "Route-olás"
   ]
  },
  {
   "cell_type": "markdown",
   "metadata": {},
   "source": [
    "Dependency: \n",
    "A Flask a WerkZeug WSGI interfészre, a JINJA template engine-re és a Click CLI toolsetre támaszkodik.\n",
    "\n",
    "WSGI\n",
    "JINJA\n",
    "CLICK"
   ]
  },
  {
   "cell_type": "markdown",
   "metadata": {},
   "source": [
    "telepítsük fel a Flask-ot\n",
    "(virtuális környezetbe is lehet, sőt)\n",
    "\n",
    "`pip install Flask`\n",
    "\n",
    "ellenőrizzük a telepítést: \n",
    "`import flask`\n"
   ]
  },
  {
   "cell_type": "markdown",
   "metadata": {
    "vscode": {
     "languageId": "plaintext"
    }
   },
   "source": [
    "Az alábbi példában egy CRUD-képes, User Authenticationt is tartalmazó webalkalmazást készítünk.\n",
    "\n",
    "1. Létrehozzuk az inicializálásért felelős `__init__.py` fájlt - ez fut majd először a Flask elindításakor. Ebben szerepeljen az import, valamint a create_app függvény, amely példányosítja a Flask appot és visszaadja.\n",
    "```python\n",
    "from flask import Flask\n",
    "\n",
    "def create_app():\n",
    "    app = Flask(__name__)   \n",
    "    return app  \n",
    "```\n",
    "A Flask (mivel \"opinionated\") meghatározott folderek és fájlok, osztályok és függvények együttesét követeli meg. Ez ugyan egy szerteágazó struktúra, de pl. az `__init__.py` jó arra, hogy a legtöbb komponens létrehozását csak egyszer csináljuk meg.    \n",
    "1. Szükség lesz az authentikálásra, majd a jogosult felhasználónál a CRUD tevékenységek ellátására.\n",
    "2. Ezekhez hozzunk létre két fájl `auth.py` és `main.py` néven.\n",
    "A `main.py`-ban a Blueprint osztályt és a render_template függvényt importáljuk. \n",
    "A Blueprint segítségével rendszerezhetjük, milyen fájlstruktúrával dolgozik a Flask alkalmazásunk. A példában main néven egy Blueprintet csinálunk, ami a 'main.py' nevű fájlt a projekthez rendeli (`__name__`):\n",
    "```python\n",
    "main = Blueprint(\"main\", __name__)  \n",
    "```\n",
    "\n",
    "Minden Flask függvényt egy dekorátorral látjuk el, amelynek struktúrája pl.:`@app_name.route()`\n",
    "```python\n",
    "@main.route('/')\n",
    "def index():\n",
    "    return \"Hello world\"\n",
    "```\n",
    "\n",
    "Ezt követően az app és a main összekötése is feladat: az app-hoz a main-t (ami, ugye, egy blueprint) kell regisztrálni:\n",
    "```python\n",
    "from .main import main as main_blueprint\n",
    "    app.register_blueprint(main_blueprint) \n",
    "```\n",
    "Ugyanezeket a lépéseket meg kell tenni az auth.py fájlban (ez lesz a blueprint), illetve ezt is hozzá kell kötni az apphoz az init.py fájlban.\n",
    "\n",
    "```python\n",
    "\n",
    "```\n"
   ]
  },
  {
   "cell_type": "markdown",
   "metadata": {},
   "source": [
    "Ahhoz, hogy futtassuk az alkalmazást, előbb exportálni kell a FLASK_APP környezeti változóba a megfelelő könyvtárat.   \n",
    "MacOSX és Linux:\n",
    "```bash\n",
    "$ export FLASK_APP=...\n",
    "$ flask run\n",
    "```\n",
    "\n",
    "Windows CMD:\n",
    "```bash\n",
    "> set FLASK_APP=...\n",
    "> flask run\n",
    "```\n",
    "\n",
    "Windows PowerShell, abból a könyvtárból, amelyen belül a pushups_logger mappa van:   \n",
    "```PowerShell\n",
    "> $env:FLASK_APP = \"pushups_logger\"\n",
    "> flask run\n",
    "```\n",
    "\n",
    "\n",
    "\n",
    "\n",
    "\n",
    "\n"
   ]
  }
 ],
 "metadata": {
  "language_info": {
   "name": "python"
  }
 },
 "nbformat": 4,
 "nbformat_minor": 2
}
