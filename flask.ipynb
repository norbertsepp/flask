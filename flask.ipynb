{
 "cells": [
  {
   "cell_type": "markdown",
   "metadata": {},
   "source": [
    "# Python Advanced<img src=\"python-logo.png\" width=\"150\" align=\"right\">\n",
    "### Toolset 2 - Flask alapok"
   ]
  },
  {
   "cell_type": "markdown",
   "metadata": {},
   "source": [
    "Dependency: \n",
    "A Flask a WerkZeug WSGI interfészre, a JINJA template engine-re és a Click CLI toolsetre támaszkodik.\n",
    "\n",
    "WSGI\n",
    "JINJA\n",
    "CLICK"
   ]
  },
  {
   "cell_type": "markdown",
   "metadata": {},
   "source": [
    "telepítsük fel a Flask-ot\n",
    "(virtuális környezetbe is lehet, sőt)\n",
    "\n",
    "`pip install Flask`\n",
    "\n",
    "ellenőrizzük a telepítést: \n",
    "`import flask`\n"
   ]
  },
  {
   "cell_type": "markdown",
   "metadata": {
    "vscode": {
     "languageId": "plaintext"
    }
   },
   "source": [
    "Az alábbi példában egy CRUD-képes, User Authenticationt is tartalmazó webalkalmazást készítünk.\n",
    "\n",
    "1. Létrehozzuk az `__init__.py` fájlt - ez fut majd először a Flask elindításakor. Ebben szerepeljen az import, valamint a create_app függvény, amely példányosítja a Flask appot és visszaadja.\n",
    "```python\n",
    "```\n",
    "A Flask (mivel \"opinionated\") több meghatározott folder és fájl együttesét követeli meg. Ez ugyan egy szerteágazó struktúra, de a legtöbb dolgot csak egyszer csináljuk meg. \n",
    "\n",
    "\n",
    "\n"
   ]
  }
 ],
 "metadata": {
  "language_info": {
   "name": "python"
  }
 },
 "nbformat": 4,
 "nbformat_minor": 2
}
