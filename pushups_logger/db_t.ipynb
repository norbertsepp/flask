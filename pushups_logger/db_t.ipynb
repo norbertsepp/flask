{
 "cells": [
  {
   "cell_type": "raw",
   "metadata": {
    "vscode": {
     "languageId": "raw"
    }
   },
   "source": [
    "# CREATE\n",
    "\n",
    "import sqlite3\n",
    "\n",
    "try:\n",
    "    conn = sqlite3.connect(\"db.sqlite\")\n",
    "    print(\"Database connected successfully\")\n",
    "except ConnectionError: \n",
    "    print(\"SQLite table connection error!\")\n",
    "\n",
    "SQL_STM = \"\"\"\n",
    "CREATE TABLE IF NOT EXISTS USER\n",
    "         (ID INTEGER PRIMARY KEY    NOT NULL,\n",
    "         EMAIL      CHAR(100)       UNIQUE NOT NULL,\n",
    "         PASSWORD   CHAR(200)       NOT NULL,\n",
    "         NAME       CHAR(100)\n",
    "         );\n",
    "\"\"\"\n",
    "conn.execute(SQL_STM)\n",
    "print(\"Table USER created\")\n",
    "\n",
    "conn.close()"
   ]
  },
  {
   "cell_type": "code",
   "execution_count": 2,
   "metadata": {},
   "outputs": [
    {
     "name": "stdout",
     "output_type": "stream",
     "text": [
      "Connection successful\n",
      "SELECT completed:  <sqlite3.Cursor object at 0x0000026DB6C5B740>\n",
      "(1, 'aa@b.c', '123', 'APPLE')\n",
      "(2, 'ab@c.d', '456', 'BANANA')\n",
      "(3, 'ac@d.e', '999', 'CONE')\n",
      "(4, 'ae@f.g', '1010101', 'EVERDEEN')\n",
      "(5, 'ag@g.g', '39827', 'GOOGOOLOOGOO')\n",
      "(6, 'norbert@sepp.hu', 'scrypt:32768:8:1$BC3RMrNTVgcPGlzV$ee60d9868fdb6d0a67a904db582a78d7f7aeb44c66df0c0c5a79c141cadf273336c287f0faf4da3a8b6cc6735f08fe9846fd3594f3dc9d9214b7aaa398ac0e0f', 'norbie')\n",
      "Operation completed\n"
     ]
    }
   ],
   "source": [
    "#SELECT\n",
    "\n",
    "import sqlite3\n",
    "\n",
    "conn = sqlite3.connect(\"db.sqlite\")\n",
    "print(\"Connection successful\")\n",
    "email = \"aa@b.c\"\n",
    "# cursor = conn.execute(f'SELECT * FROM USER where email=\"{email}\"')\n",
    "\n",
    "cursor = conn.execute(f'SELECT * FROM USER')\n",
    "\n",
    "print(\"SELECT completed: \", cursor)\n",
    "\n",
    "for row in cursor:\n",
    "    print(row)\n",
    "\n",
    "print(\"Operation completed\")\n",
    "conn.close()"
   ]
  },
  {
   "cell_type": "code",
   "execution_count": 4,
   "metadata": {},
   "outputs": [
    {
     "name": "stdout",
     "output_type": "stream",
     "text": [
      "Database connected successfully\n",
      "INSERT INTO USER (email, password, name) VALUES(\"aa@b.c\", \"123\", \"APPLE\");\n",
      "Executed\n",
      "INSERT INTO USER (email, password, name) VALUES(\"ab@c.d\", \"456\", \"BANANA\");\n",
      "Executed\n",
      "INSERT INTO USER (email, password, name) VALUES(\"ac@d.e\", \"999\", \"CONE\");\n",
      "Executed\n",
      "INSERT INTO USER (email, password, name) VALUES(\"ae@f.g\", \"1010101\", \"EVERDEEN\");\n",
      "Executed\n",
      "INSERT INTO USER (email, password, name) VALUES(\"ag@g.g\", \"39827\", \"GOOGOOLOOGOO\");\n",
      "Executed\n",
      "Committed\n"
     ]
    }
   ],
   "source": [
    "# INSERT INTO\n",
    "\n",
    "import sqlite3\n",
    "\n",
    "conn = sqlite3.connect(\"db.sqlite\")\n",
    "print(\"Database connected successfully\")\n",
    "\n",
    "SQL = [0 for i in range(5)]\n",
    "\n",
    "SQL_STM = \"INSERT INTO USER (email, password, name) VALUES(\"\n",
    "\n",
    "SQL[0] = '\"aa@b.c\", \"123\", \"APPLE\"'\n",
    "SQL[1] = '\"ab@c.d\", \"456\", \"BANANA\"'\n",
    "SQL[2] = '\"ac@d.e\", \"999\", \"CONE\"'\n",
    "SQL[3] = '\"ae@f.g\", \"1010101\", \"EVERDEEN\"'\n",
    "SQL[4] = '\"ag@g.g\", \"39827\", \"GOOGOOLOOGOO\"'\n",
    "\n",
    "for i in range(5):\n",
    "    statement = SQL_STM + SQL[i] + \");\"\n",
    "    print(statement)\n",
    "    conn.execute(statement)\n",
    "    print(\"Executed\")\n",
    "    \n",
    "conn.commit()\n",
    "conn.close()\n",
    "print(\"Committed\")"
   ]
  }
 ],
 "metadata": {
  "kernelspec": {
   "display_name": "Python 3",
   "language": "python",
   "name": "python3"
  },
  "language_info": {
   "codemirror_mode": {
    "name": "ipython",
    "version": 3
   },
   "file_extension": ".py",
   "mimetype": "text/x-python",
   "name": "python",
   "nbconvert_exporter": "python",
   "pygments_lexer": "ipython3",
   "version": "3.12.0"
  }
 },
 "nbformat": 4,
 "nbformat_minor": 2
}
